{
 "cells": [
  {
   "cell_type": "code",
   "execution_count": 9,
   "id": "901275d9-39bc-4e3b-b59e-1a6efca8b7d3",
   "metadata": {},
   "outputs": [
    {
     "name": "stdout",
     "output_type": "stream",
     "text": [
      "              Date  Price\n",
      "9006  Nov 08, 2022  96.85\n",
      "9007  Nov 09, 2022  93.05\n",
      "9008  Nov 10, 2022  94.25\n",
      "9009  Nov 11, 2022  96.37\n",
      "9010  Nov 14, 2022  93.59\n"
     ]
    }
   ],
   "source": [
    "import pandas as pd \n",
    "data = pd.read_csv('./data/BrentOilPrices.csv')\n",
    "framed_data = pd.DataFrame(data)\n",
    "print(framed_data.tail())"
   ]
  },
  {
   "cell_type": "code",
   "execution_count": 10,
   "id": "4b278962-2a63-4414-bd44-e6ee593c93fc",
   "metadata": {},
   "outputs": [
    {
     "name": "stdout",
     "output_type": "stream",
     "text": [
      "Date     0\n",
      "Price    0\n",
      "dtype: int64\n"
     ]
    }
   ],
   "source": [
    "print(framed_data.isnull().sum())"
   ]
  },
  {
   "cell_type": "code",
   "execution_count": 13,
   "id": "86ca73de-c539-4116-93be-ca4c58a821d6",
   "metadata": {
    "scrolled": true
   },
   "outputs": [
    {
     "name": "stdout",
     "output_type": "stream",
     "text": [
      "0\n"
     ]
    }
   ],
   "source": [
    "print(framed_data.duplicated().sum())"
   ]
  },
  {
   "cell_type": "code",
   "execution_count": 19,
   "id": "09dfd616-0b77-4b1b-8876-752450d3a2f6",
   "metadata": {},
   "outputs": [
    {
     "name": "stdout",
     "output_type": "stream",
     "text": [
      "float64\n"
     ]
    }
   ],
   "source": [
    "print(framed_data['Price'].dtype)"
   ]
  },
  {
   "cell_type": "code",
   "execution_count": 23,
   "id": "46c46d9e-aa45-49fe-8ce5-6821e332b0b3",
   "metadata": {},
   "outputs": [
    {
     "name": "stderr",
     "output_type": "stream",
     "text": [
      "C:\\Users\\User\\AppData\\Local\\Temp\\ipykernel_5620\\1053921511.py:1: UserWarning: Could not infer format, so each element will be parsed individually, falling back to `dateutil`. To ensure parsing is consistent and as-expected, please specify a format.\n",
      "  framed_data['Date'] = pd.to_datetime(framed_data['Date'])\n"
     ]
    }
   ],
   "source": [
    "framed_data['Date'] = pd.to_datetime(framed_data['Date'])"
   ]
  },
  {
   "cell_type": "code",
   "execution_count": 24,
   "id": "9aff97cc-00d7-4f16-922d-e239cae4c939",
   "metadata": {},
   "outputs": [
    {
     "name": "stdout",
     "output_type": "stream",
     "text": [
      "        Date  Price\n",
      "0 1987-05-20  18.63\n",
      "1 1987-05-21  18.45\n",
      "2 1987-05-22  18.55\n",
      "3 1987-05-25  18.60\n",
      "4 1987-05-26  18.63\n"
     ]
    }
   ],
   "source": [
    "print(framed_data.head())"
   ]
  },
  {
   "cell_type": "code",
   "execution_count": null,
   "id": "64f6dd42-fcdb-497e-99c0-383d0a4ceb80",
   "metadata": {},
   "outputs": [],
   "source": []
  }
 ],
 "metadata": {
  "kernelspec": {
   "display_name": "Python 3 (ipykernel)",
   "language": "python",
   "name": "python3"
  },
  "language_info": {
   "codemirror_mode": {
    "name": "ipython",
    "version": 3
   },
   "file_extension": ".py",
   "mimetype": "text/x-python",
   "name": "python",
   "nbconvert_exporter": "python",
   "pygments_lexer": "ipython3",
   "version": "3.12.6"
  }
 },
 "nbformat": 4,
 "nbformat_minor": 5
}
